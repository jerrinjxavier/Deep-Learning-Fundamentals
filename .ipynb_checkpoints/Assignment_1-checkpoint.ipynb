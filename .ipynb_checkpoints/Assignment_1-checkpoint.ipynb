{
 "cells": [
  {
   "cell_type": "markdown",
   "id": "aabb4d0a",
   "metadata": {},
   "source": [
    "## Perceptron Algorithm in Diabetes Dataset"
   ]
  },
  {
   "cell_type": "markdown",
   "id": "d26b24ad",
   "metadata": {},
   "source": [
    "### 1. Loading the Dataset"
   ]
  },
  {
   "cell_type": "code",
   "execution_count": 1,
   "id": "a3ebd749",
   "metadata": {},
   "outputs": [],
   "source": [
    "import requests\n",
    "import numpy as np\n",
    "from sklearn.datasets import load_svmlight_file\n",
    "from sklearn.model_selection import train_test_split\n",
    "from io import BytesIO\n",
    "\n",
    "# URL of the dataset\n",
    "diabets_dataset = 'https://www.csie.ntu.edu.tw/~cjlin/libsvmtools/datasets/binary/diabetes'\n",
    "\n",
    "# Downloading the dataset\n",
    "dataset = requests.get(diabets_dataset)\n",
    "\n",
    "# Loading the dataset from the downloaded content\n",
    "X, y = load_svmlight_file(BytesIO(dataset.content))\n",
    "\n",
    "# X contains the feature vectors, and y contains the labels"
   ]
  },
  {
   "cell_type": "markdown",
   "id": "6f13b260",
   "metadata": {},
   "source": [
    "### 2. Spliting the dataset into training and testing sets"
   ]
  },
  {
   "cell_type": "code",
   "execution_count": 2,
   "id": "296c1491",
   "metadata": {},
   "outputs": [],
   "source": [
    "X_train, X_test, y_train, y_test = train_test_split(X, y, test_size=0.2, random_state=42)"
   ]
  },
  {
   "cell_type": "markdown",
   "id": "4e43ece4",
   "metadata": {},
   "source": [
    "### 3. Initializing of weights and bias to zeros"
   ]
  },
  {
   "cell_type": "code",
   "execution_count": 3,
   "id": "a9b7f7ff",
   "metadata": {},
   "outputs": [],
   "source": [
    "n_features = X_train.shape[1]\n",
    "weights = np.zeros(n_features)\n",
    "bias = 0"
   ]
  },
  {
   "cell_type": "code",
   "execution_count": 4,
   "id": "b68b4ee4",
   "metadata": {},
   "outputs": [],
   "source": [
    "# Defining the learning rate\n",
    "learning_rate = 0.01"
   ]
  },
  {
   "cell_type": "code",
   "execution_count": 5,
   "id": "50296994",
   "metadata": {},
   "outputs": [],
   "source": [
    "# Defining the number of training iterations\n",
    "max_iterations = 1000"
   ]
  },
  {
   "cell_type": "markdown",
   "id": "0d4a30de",
   "metadata": {},
   "source": [
    "### 4. The Activation function"
   ]
  },
  {
   "cell_type": "code",
   "execution_count": 6,
   "id": "2a26cc49",
   "metadata": {},
   "outputs": [],
   "source": [
    "def activation(z):\n",
    "    return np.where(z >= 0, 1, -1)"
   ]
  },
  {
   "cell_type": "markdown",
   "id": "cda842e3",
   "metadata": {},
   "source": [
    "### 5. Training with Perceptron Algorithm"
   ]
  },
  {
   "cell_type": "code",
   "execution_count": 7,
   "id": "d78e064a",
   "metadata": {},
   "outputs": [],
   "source": [
    "for _ in range(max_iterations):\n",
    "    errors = 0\n",
    "    for xi, target in zip(X_train, y_train):\n",
    "        # Converting xi to a dense (NumPy) array\n",
    "        xi_dense = xi.toarray().reshape(-1)  # Reshape to 1D array if needed\n",
    "        \n",
    "        # Computing the weighted sum\n",
    "        z = np.dot(xi_dense, weights) + bias\n",
    "        # Applying the activation function\n",
    "        prediction = activation(z)\n",
    "        # Updating weights and bias if there is a chance of misclassification\n",
    "        if prediction != target:\n",
    "            update = learning_rate * (target - prediction)\n",
    "            weights += update * xi_dense\n",
    "            bias += update\n",
    "            errors += 1\n",
    "    # Code to stop early if there are no errors\n",
    "    if errors == 0:\n",
    "        break"
   ]
  },
  {
   "cell_type": "markdown",
   "id": "d3201898",
   "metadata": {},
   "source": [
    "### 6. Making predictions on the test data"
   ]
  },
  {
   "cell_type": "code",
   "execution_count": 8,
   "id": "113645db",
   "metadata": {},
   "outputs": [],
   "source": [
    "def predict(X):\n",
    "    z = np.dot(X.toarray(), weights) + bias\n",
    "    return activation(z)\n",
    "\n",
    "y_pred = predict(X_test)"
   ]
  },
  {
   "cell_type": "markdown",
   "id": "4dd7dcad",
   "metadata": {},
   "source": [
    "### 7. Evaluation of the model"
   ]
  },
  {
   "cell_type": "code",
   "execution_count": 9,
   "id": "d3921672",
   "metadata": {},
   "outputs": [
    {
     "name": "stdout",
     "output_type": "stream",
     "text": [
      "Accuracy: 0.7207792207792207\n",
      "Precision: 0.7121212121212122\n",
      "Recall: 0.9494949494949495\n",
      "F1 Score: 0.8138528138528138\n"
     ]
    }
   ],
   "source": [
    "from sklearn.metrics import accuracy_score, precision_score, recall_score, f1_score\n",
    "\n",
    "accuracy = accuracy_score(y_test, y_pred)\n",
    "precision = precision_score(y_test, y_pred)\n",
    "recall = recall_score(y_test, y_pred)\n",
    "f1 = f1_score(y_test, y_pred)\n",
    "\n",
    "print(\"Accuracy:\", accuracy)\n",
    "print(\"Precision:\", precision)\n",
    "print(\"Recall:\", recall)\n",
    "print(\"F1 Score:\", f1)"
   ]
  },
  {
   "cell_type": "markdown",
   "id": "84fbee0f",
   "metadata": {},
   "source": [
    "### 8. Visualisation of the Result - Using confusion matrix"
   ]
  },
  {
   "cell_type": "code",
   "execution_count": 10,
   "id": "e6529ce8",
   "metadata": {},
   "outputs": [
    {
     "data": {
      "image/png": "[encoded data removed]",
      "text/plain": [
       "<Figure size 600x400 with 2 Axes>"
      ]
     },
     "metadata": {},
     "output_type": "display_data"
    }
   ],
   "source": [
    "from sklearn.metrics import confusion_matrix\n",
    "import seaborn as sns\n",
    "import matplotlib.pyplot as plt\n",
    "\n",
    "# Calculate the confusion matrix\n",
    "cm = confusion_matrix(y_test, y_pred)\n",
    "\n",
    "# Define class labels for the confusion matrix\n",
    "class_labels = ['No Diabetes', 'Diabetes']\n",
    "\n",
    "# Create a heatmap for the confusion matrix\n",
    "plt.figure(figsize=(6, 4))\n",
    "sns.heatmap(cm, annot=True, fmt=\"d\", cmap=\"Blues\", annot_kws={\"size\": 16}, xticklabels=class_labels, yticklabels=class_labels)\n",
    "plt.xlabel('Predicted Labels')\n",
    "plt.ylabel('True Labels')\n",
    "plt.title('Confusion Matrix')\n",
    "plt.show()"
   ]
  }
 ],
 "metadata": {
  "kernelspec": {
   "display_name": "Python 3 (ipykernel)",
   "language": "python",
   "name": "python3"
  },
  "language_info": {
   "codemirror_mode": {
    "name": "ipython",
    "version": 3
   },
   "file_extension": ".py",
   "mimetype": "text/x-python",
   "name": "python",
   "nbconvert_exporter": "python",
   "pygments_lexer": "ipython3",
   "version": "3.9.13"
  }
 },
 "nbformat": 4,
 "nbformat_minor": 5
}
